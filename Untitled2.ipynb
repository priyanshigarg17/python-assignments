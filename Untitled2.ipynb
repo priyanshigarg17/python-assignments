{
  "nbformat": 4,
  "nbformat_minor": 0,
  "metadata": {
    "colab": {
      "provenance": []
    },
    "kernelspec": {
      "name": "python3",
      "display_name": "Python 3"
    },
    "language_info": {
      "name": "python"
    }
  },
  "cells": [
    {
      "cell_type": "code",
      "execution_count": null,
      "metadata": {
        "colab": {
          "base_uri": "https://localhost:8080/"
        },
        "id": "_kI-RwhHY9eh",
        "outputId": "3e950c11-342f-4521-f1ea-f2bb6512c7b8"
      },
      "outputs": [
        {
          "output_type": "stream",
          "name": "stdout",
          "text": [
            "hello\n"
          ]
        }
      ],
      "source": [
        "if(True):\n",
        "  print(\"hello\")"
      ]
    },
    {
      "cell_type": "code",
      "source": [
        "age=1\n",
        "if(age>10):\n",
        "  print('my age is less than 1')\n",
        "else:\n",
        "  print('hhy')"
      ],
      "metadata": {
        "colab": {
          "base_uri": "https://localhost:8080/"
        },
        "id": "24XeNDrLaF6l",
        "outputId": "063b8aba-23ab-4ae7-cfcb-c96cabf73a69"
      },
      "execution_count": null,
      "outputs": [
        {
          "output_type": "stream",
          "name": "stdout",
          "text": [
            "hhy\n"
          ]
        }
      ]
    },
    {
      "cell_type": "code",
      "source": [
        "age=21\n",
        "if(age>5 and age<20):\n",
        "  print('regex')\n",
        "else:\n",
        "  print('priyanshi')"
      ],
      "metadata": {
        "colab": {
          "base_uri": "https://localhost:8080/"
        },
        "id": "A-nM7WambFjh",
        "outputId": "d23c1911-0936-4843-ef6f-31961667c5f1"
      },
      "execution_count": null,
      "outputs": [
        {
          "output_type": "stream",
          "name": "stdout",
          "text": [
            "priyanshi\n"
          ]
        }
      ]
    },
    {
      "cell_type": "code",
      "source": [
        "num=6\n",
        "if(num%2==0 and num%5==0):\n",
        "  print('number is divisible by 5')\n",
        "else:\n",
        "  ('number is not divisible by 5')"
      ],
      "metadata": {
        "id": "EHqh3m7mbSUA"
      },
      "execution_count": null,
      "outputs": []
    },
    {
      "cell_type": "code",
      "source": [
        "age=16\n",
        "if(age==16):\n",
        "  print(\"age is 16\")\n",
        "elif(age==18):\n",
        "  print('age is 18')\n",
        "else:\n",
        "  print('age is not 18 or 16')"
      ],
      "metadata": {
        "colab": {
          "base_uri": "https://localhost:8080/"
        },
        "id": "htxN6uZmcr9a",
        "outputId": "7b2c9fff-8654-4fd0-cec7-1f50e6d069e0"
      },
      "execution_count": null,
      "outputs": [
        {
          "output_type": "stream",
          "name": "stdout",
          "text": [
            "age is 16\n"
          ]
        }
      ]
    },
    {
      "cell_type": "code",
      "source": [
        "num=10\n",
        "if(num%2==0):\n",
        "  print('number is divided by 2')\n",
        "elif(num%5==0):\n",
        "  print('number is divided by 5')\n",
        "else:\n",
        "  print('number is not divided by both')"
      ],
      "metadata": {
        "colab": {
          "base_uri": "https://localhost:8080/"
        },
        "id": "EVM_Rfiid3W8",
        "outputId": "3d921c6b-8eb3-40bc-c0e8-0668d7535d05"
      },
      "execution_count": null,
      "outputs": [
        {
          "output_type": "stream",
          "name": "stdout",
          "text": [
            "number is divided by 2\n"
          ]
        }
      ]
    },
    {
      "cell_type": "code",
      "source": [
        "num=4\n",
        "num2= 3\n",
        "num3 =1\n",
        "if(num<num2 and num<num3):\n",
        "  print('num is smallest')\n",
        "elif(num2<num and num2<num3):\n",
        "  print('num2 is smallest')\n",
        "else:\n",
        "  print('num3 is smallest')\n"
      ],
      "metadata": {
        "colab": {
          "base_uri": "https://localhost:8080/"
        },
        "id": "G1HW0gnDeOIX",
        "outputId": "bbf7d5e3-48a6-4996-952c-931d1f173843"
      },
      "execution_count": null,
      "outputs": [
        {
          "output_type": "stream",
          "name": "stdout",
          "text": [
            "num3 is smallest\n"
          ]
        }
      ]
    },
    {
      "cell_type": "code",
      "source": [
        "age=55\n",
        "if(age>10 and age<24):\n",
        "  print('adult')\n",
        "elif(age>24 and age<35):\n",
        "  print('young')\n",
        "elif(age>35 and age<60):\n",
        "  print('married')\n",
        "elif(age>60):\n",
        "  print('senior citizen')\n",
        "else:\n",
        "  print('child')"
      ],
      "metadata": {
        "colab": {
          "base_uri": "https://localhost:8080/"
        },
        "id": "TNivoPmrgT3L",
        "outputId": "7a3c90ed-1e81-4b6d-b17e-dad7b284e721"
      },
      "execution_count": null,
      "outputs": [
        {
          "output_type": "stream",
          "name": "stdout",
          "text": [
            "married\n"
          ]
        }
      ]
    },
    {
      "cell_type": "code",
      "source": [
        "age=55\n",
        "if(age>60):\n",
        "  print('senior citizen')\n",
        "elif(age>35):\n",
        "  print('married')\n",
        "elif(age>24):\n",
        "  print('young')\n",
        "elif(age>10):\n",
        "  print('adult')\n",
        "else:\n",
        "  print('child')"
      ],
      "metadata": {
        "colab": {
          "base_uri": "https://localhost:8080/"
        },
        "id": "yUr7NraniMuz",
        "outputId": "50ba3e2b-e610-4620-dc84-1a25947003c3"
      },
      "execution_count": null,
      "outputs": [
        {
          "output_type": "stream",
          "name": "stdout",
          "text": [
            "married\n"
          ]
        }
      ]
    },
    {
      "cell_type": "code",
      "source": [
        "age=12\n",
        "if(age>10):\n",
        "  print('age is greater than 10')\n",
        "  if(age>15):\n",
        "   print('age is greater than 10 and 15')\n",
        "else:\n",
        "  print('age is smaller than 10')"
      ],
      "metadata": {
        "colab": {
          "base_uri": "https://localhost:8080/"
        },
        "id": "U-_spk5ZkqB9",
        "outputId": "9b533d6f-4098-4153-8f66-39cf3585371f"
      },
      "execution_count": null,
      "outputs": [
        {
          "output_type": "stream",
          "name": "stdout",
          "text": [
            "age is greater than 10\n"
          ]
        }
      ]
    },
    {
      "cell_type": "code",
      "source": [
        "num=16\n",
        "if(num%2==0):\n",
        "  if(num%5==0):\n",
        "    print('number is divided by 2 and 5')\n",
        "  else:\n",
        "      print('number is divided by 2')\n",
        "else:\n",
        "  print('not divided by both')"
      ],
      "metadata": {
        "colab": {
          "base_uri": "https://localhost:8080/"
        },
        "id": "eXlBSDh5ltBI",
        "outputId": "3dc640da-c397-4bec-adf5-7eef49d402b2"
      },
      "execution_count": null,
      "outputs": [
        {
          "output_type": "stream",
          "name": "stdout",
          "text": [
            "number is divided by 2\n"
          ]
        }
      ]
    },
    {
      "cell_type": "code",
      "source": [
        "age=30\n",
        "if(age>18):\n",
        "  if(age>25):\n",
        "    print('he is eligible for marriage and voting')\n",
        "  else:\n",
        "      print('eligible for voting')\n",
        "else:\n",
        "  print('condition not satisfied')"
      ],
      "metadata": {
        "colab": {
          "base_uri": "https://localhost:8080/"
        },
        "id": "6JWz5FEMnc2Y",
        "outputId": "5437f9ef-3994-40b1-a3dc-588d41b5fd3b"
      },
      "execution_count": null,
      "outputs": [
        {
          "output_type": "stream",
          "name": "stdout",
          "text": [
            "he is eligible for marriage and voting\n"
          ]
        }
      ]
    },
    {
      "cell_type": "code",
      "source": [
        "num=int(input('n='))\n",
        "if (num % 2 == 0):\n",
        "    print(\"n is even.\")\n",
        "else:\n",
        "    print(\"n is odd.\")"
      ],
      "metadata": {
        "id": "c2U10GSvpT3Z",
        "colab": {
          "base_uri": "https://localhost:8080/"
        },
        "outputId": "daa92e6e-1686-4bb5-ad05-905bbd40e703"
      },
      "execution_count": 6,
      "outputs": [
        {
          "output_type": "stream",
          "name": "stdout",
          "text": [
            "n=4\n",
            "n is even.\n"
          ]
        }
      ]
    },
    {
      "cell_type": "code",
      "source": [
        "num=int(input('number 1='))\n",
        "num2=int(input('number 2='))\n",
        "num3=int(input('number 3='))\n",
        "if(num>num2 and num>num3):\n",
        "  print('num is largest')\n",
        "elif(num2>num and num2>num3):\n",
        "  print(\"num2 is largest\")\n",
        "else:\n",
        "  print(\"num3 is largest\")"
      ],
      "metadata": {
        "colab": {
          "base_uri": "https://localhost:8080/"
        },
        "id": "O8zJWjXjQ7ka",
        "outputId": "5d1c49a7-7220-4d79-8c14-d00dc85b9d74"
      },
      "execution_count": 7,
      "outputs": [
        {
          "output_type": "stream",
          "name": "stdout",
          "text": [
            "number 1=5\n",
            "number 2=3\n",
            "number 3=7\n",
            "num3 is largest\n"
          ]
        }
      ]
    },
    {
      "cell_type": "code",
      "source": [
        "year = 2098\n",
        "if(year%4==0 and year%100!=0) or (year%400==0):\n",
        "  print(\"year is leap year\")\n",
        "else:\n",
        "  print(\"year is not leap year\")\n"
      ],
      "metadata": {
        "colab": {
          "base_uri": "https://localhost:8080/"
        },
        "id": "WG2NUQOfRvl6",
        "outputId": "95ef9b5e-5042-407d-f065-65720b6d6e20"
      },
      "execution_count": 10,
      "outputs": [
        {
          "output_type": "stream",
          "name": "stdout",
          "text": [
            "year is not leap year\n"
          ]
        }
      ]
    },
    {
      "cell_type": "code",
      "source": [
        "num=int(input(\"percentage = \"))\n",
        "if(num>= 90):\n",
        "  print(\"grade a\")\n",
        "elif(num>=80 and num<=90):\n",
        "  print(\"grade b\")\n",
        "elif(num>=70 and num<=80):\n",
        "  print(\"grade c\")\n",
        "elif(num>=60 and num<=70):\n",
        "  print(\"grade d\")\n",
        "else:\n",
        "  print(\"grade f\")\n"
      ],
      "metadata": {
        "colab": {
          "base_uri": "https://localhost:8080/"
        },
        "id": "T3xfv1zcStS4",
        "outputId": "742fc80b-11d5-45a0-c083-adf7bcbccce8"
      },
      "execution_count": 11,
      "outputs": [
        {
          "output_type": "stream",
          "name": "stdout",
          "text": [
            "percentage = 76\n",
            "grade c\n"
          ]
        }
      ]
    },
    {
      "cell_type": "code",
      "source": [
        "letter=input(\"enter a character: \")\n",
        "if(letter == 'a' or letter == 'e' or letter == 'i' or letter == 'o' or letter == 'u'):\n",
        "  print(\"letter is vowel\")\n",
        "else:\n",
        "  print(\"letter is consonant\")\n"
      ],
      "metadata": {
        "colab": {
          "base_uri": "https://localhost:8080/"
        },
        "id": "UcoWVgOqTv91",
        "outputId": "40a7e8ab-ab5d-49ba-f01e-298bf0c83313"
      },
      "execution_count": 14,
      "outputs": [
        {
          "output_type": "stream",
          "name": "stdout",
          "text": [
            "enter a character: r\n",
            "letter is consonant\n"
          ]
        }
      ]
    },
    {
      "cell_type": "code",
      "source": [
        "num1 = float(input(\"Enter the first number: \"))\n",
        "operator = input(\"Enter an operator: \")\n",
        "num2 = float(input(\"Enter the second number: \"))\n",
        "if(operator == '+'):\n",
        "    result = num1 + num2\n",
        "    print(f\"{result}\")\n",
        "elif(operator == '-'):\n",
        "    result = num1 - num2\n",
        "    print(f\"{result}\")\n",
        "elif(operator == '*'):\n",
        "    result = num1 * num2\n",
        "    print(f\"{result}\")\n",
        "elif operator == '/':\n",
        "    if num2 != 0:\n",
        "        result = num1 / num2\n",
        "        print(f\"{result}\")\n",
        "    else:\n",
        "        print(\"error\")\n",
        "else:\n",
        "    print(\"not supported\")"
      ],
      "metadata": {
        "colab": {
          "base_uri": "https://localhost:8080/"
        },
        "id": "cZregsw_VBEK",
        "outputId": "f9ec07da-343a-4e30-ffe6-ab390c561952"
      },
      "execution_count": 17,
      "outputs": [
        {
          "output_type": "stream",
          "name": "stdout",
          "text": [
            "Enter the first number: 8\n",
            "Enter an operator: -\n",
            "Enter the second number: 6\n",
            "2.0\n"
          ]
        }
      ]
    },
    {
      "cell_type": "code",
      "source": [
        "number=int(input(\"enter a number: \"))\n",
        "if(number>0):\n",
        "    print(\"The number is positive.\")\n",
        "elif(number<0):\n",
        "    print(\"The number is negative.\")\n",
        "else:\n",
        "    print(\"The number is zero.\")"
      ],
      "metadata": {
        "colab": {
          "base_uri": "https://localhost:8080/"
        },
        "id": "JfHrcz8NWWah",
        "outputId": "1408e9e4-b802-4b7e-9e0c-3b59c1ac0fc2"
      },
      "execution_count": 19,
      "outputs": [
        {
          "output_type": "stream",
          "name": "stdout",
          "text": [
            "enter a number: 5\n",
            "The number is positive.\n"
          ]
        }
      ]
    },
    {
      "cell_type": "code",
      "source": [
        "price=int(input(\"enter a price: \"))\n",
        "if(price>1000):\n",
        "  print(\"discount is 10%\")\n",
        "elif(price>500 and price<1000):\n",
        "  print(\"discount is 5%\")\n",
        "else:\n",
        "  print(\"no discount\")"
      ],
      "metadata": {
        "colab": {
          "base_uri": "https://localhost:8080/"
        },
        "id": "6Tj6mGt6XJNJ",
        "outputId": "4caca1a4-87f3-46f1-f0ce-271e074c58e7"
      },
      "execution_count": 20,
      "outputs": [
        {
          "output_type": "stream",
          "name": "stdout",
          "text": [
            "enter a price: 4589\n",
            "discount is 10%\n"
          ]
        }
      ]
    },
    {
      "cell_type": "code",
      "source": [],
      "metadata": {
        "id": "Z44aPIS6YbmE"
      },
      "execution_count": null,
      "outputs": []
    }
  ]
}