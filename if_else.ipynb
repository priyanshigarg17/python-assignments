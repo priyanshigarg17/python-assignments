{
  "nbformat": 4,
  "nbformat_minor": 0,
  "metadata": {
    "colab": {
      "provenance": [],
      "authorship_tag": "ABX9TyOqV57OC9lVabqG+6vdc3+D",
      "include_colab_link": true
    },
    "kernelspec": {
      "name": "python3",
      "display_name": "Python 3"
    },
    "language_info": {
      "name": "python"
    }
  },
  "cells": [
    {
      "cell_type": "markdown",
      "metadata": {
        "id": "view-in-github",
        "colab_type": "text"
      },
      "source": [
        "<a href=\"https://colab.research.google.com/github/priyanshigarg17/python-assignments/blob/main/if_else.ipynb\" target=\"_parent\"><img src=\"https://colab.research.google.com/assets/colab-badge.svg\" alt=\"Open In Colab\"/></a>"
      ]
    },
    {
      "cell_type": "code",
      "execution_count": null,
      "metadata": {
        "colab": {
          "base_uri": "https://localhost:8080/"
        },
        "id": "dZmaQg3q2ELs",
        "outputId": "db0a9f83-9fbd-4f49-b889-a016109182eb"
      },
      "outputs": [
        {
          "output_type": "stream",
          "name": "stdout",
          "text": [
            "write an integer: 5\n",
            "Friday\n"
          ]
        }
      ],
      "source": [
        "num=int(input(\"write an integer: \"))\n",
        "if(num==1):\n",
        "  print(\"Monday\")\n",
        "elif(num==2):\n",
        "  print(\"Tuesday\")\n",
        "elif(num==3):\n",
        "  print(\"Wednesday\")\n",
        "elif(num==4):\n",
        "  print(\"Thursday\")\n",
        "elif(num==5):\n",
        "  print(\"Friday\")\n",
        "elif(num==6):\n",
        "  print(\"Saturday\")\n",
        "elif(num==7):\n",
        "  print(\"Sunday\")\n",
        "else:\n",
        "  print(\"write a valid integer\")"
      ]
    },
    {
      "cell_type": "code",
      "source": [
        "age=int(input(\"enter a age: \"))\n",
        "if(age>=0 and age<=1):\n",
        "  print(\"infant\")\n",
        "elif(age>=2 and age<=4):\n",
        "  print(\"Todler\")\n",
        "elif(age>=5 and age<=12):\n",
        "  print(\"child\")\n",
        "elif(age>=13 and age<=19):\n",
        "  print(\"teenager\")\n",
        "elif(age>=20 and age<=59):\n",
        "  print(\"adult\")\n",
        "else:\n",
        "  print(\"senior\")"
      ],
      "metadata": {
        "colab": {
          "base_uri": "https://localhost:8080/"
        },
        "id": "xOJHwMGK4dTQ",
        "outputId": "2e882570-c804-43db-bd28-f10c12992087"
      },
      "execution_count": null,
      "outputs": [
        {
          "output_type": "stream",
          "name": "stdout",
          "text": [
            "enter a age: 77\n",
            "senior\n"
          ]
        }
      ]
    },
    {
      "cell_type": "code",
      "source": [
        "num=int(input('n='))\n",
        "if (num % 2 == 0):\n",
        "    print(\"n is even.\")\n",
        "else:\n",
        "    print(\"n is odd.\")"
      ],
      "metadata": {
        "id": "2b6BZQb15rBX",
        "colab": {
          "base_uri": "https://localhost:8080/"
        },
        "outputId": "87efd49b-50f4-4593-be5b-62873c4d3543"
      },
      "execution_count": 1,
      "outputs": [
        {
          "output_type": "stream",
          "name": "stdout",
          "text": [
            "n=8\n",
            "n is even.\n"
          ]
        }
      ]
    },
    {
      "cell_type": "code",
      "source": [
        "num=int(input('number 1='))\n",
        "num2=int(input('number 2='))\n",
        "num3=int(input('number 3='))\n",
        "if(num>num2 and num>num3):\n",
        "  print('num is largest')\n",
        "elif(num2>num and num2>num3):\n",
        "  print(\"num2 is largest\")\n",
        "else:\n",
        "  print(\"num3 is largest\")"
      ],
      "metadata": {
        "colab": {
          "base_uri": "https://localhost:8080/"
        },
        "id": "_oexa-EEVBzB",
        "outputId": "9cdce149-be65-46cc-8e69-ca42bf501dc8"
      },
      "execution_count": 2,
      "outputs": [
        {
          "output_type": "stream",
          "name": "stdout",
          "text": [
            "number 1=5\n",
            "number 2=3\n",
            "number 3=7\n",
            "num3 is largest\n"
          ]
        }
      ]
    },
    {
      "cell_type": "code",
      "source": [
        "year = 2098\n",
        "if(year%4==0 and year%100!=0) or (year%400==0):\n",
        "  print(\"year is leap year\")\n",
        "else:\n",
        "  print(\"year is not leap year\")\n"
      ],
      "metadata": {
        "colab": {
          "base_uri": "https://localhost:8080/"
        },
        "id": "_ntBhDsCVF5T",
        "outputId": "0dd02df9-50c7-4199-f5d1-54d2e4295741"
      },
      "execution_count": 3,
      "outputs": [
        {
          "output_type": "stream",
          "name": "stdout",
          "text": [
            "year is not leap year\n"
          ]
        }
      ]
    },
    {
      "cell_type": "code",
      "source": [
        "num=int(input(\"percentage = \"))\n",
        "if(num>= 90):\n",
        "  print(\"grade a\")\n",
        "elif(num>=80 and num<=90):\n",
        "  print(\"grade b\")\n",
        "elif(num>=70 and num<=80):\n",
        "  print(\"grade c\")\n",
        "elif(num>=60 and num<=70):\n",
        "  print(\"grade d\")\n",
        "else:\n",
        "  print(\"grade f\")"
      ],
      "metadata": {
        "colab": {
          "base_uri": "https://localhost:8080/"
        },
        "id": "R3xFL2yvVJs0",
        "outputId": "a2a9b78c-170b-4b9c-d96e-2677e99c7577"
      },
      "execution_count": 4,
      "outputs": [
        {
          "output_type": "stream",
          "name": "stdout",
          "text": [
            "percentage = 76\n",
            "grade c\n"
          ]
        }
      ]
    },
    {
      "cell_type": "code",
      "source": [
        "letter=input(\"enter a character: \")\n",
        "if(letter == 'a' or letter == 'e' or letter == 'i' or letter == 'o' or letter == 'u'):\n",
        "  print(\"letter is vowel\")\n",
        "else:\n",
        "  print(\"letter is consonant\")\n"
      ],
      "metadata": {
        "colab": {
          "base_uri": "https://localhost:8080/"
        },
        "id": "0PuyrU4XVMIn",
        "outputId": "7aacdd16-7b6c-4f57-b7ad-f052586ab533"
      },
      "execution_count": 5,
      "outputs": [
        {
          "output_type": "stream",
          "name": "stdout",
          "text": [
            "enter a character: r\n",
            "letter is consonant\n"
          ]
        }
      ]
    },
    {
      "cell_type": "code",
      "source": [
        "num1 = float(input(\"Enter the first number: \"))\n",
        "operator = input(\"Enter an operator: \")\n",
        "num2 = float(input(\"Enter the second number: \"))\n",
        "if(operator == '+'):\n",
        "    result = num1 + num2\n",
        "    print(f\"{result}\")\n",
        "elif(operator == '-'):\n",
        "    result = num1 - num2\n",
        "    print(f\"{result}\")\n",
        "elif(operator == '*'):\n",
        "    result = num1 * num2\n",
        "    print(f\"{result}\")\n",
        "elif operator == '/':\n",
        "    if num2 != 0:\n",
        "        result = num1 / num2\n",
        "        print(f\"{result}\")\n",
        "    else:\n",
        "        print(\"error\")\n",
        "else:\n",
        "    print(\"not supported\")"
      ],
      "metadata": {
        "colab": {
          "base_uri": "https://localhost:8080/"
        },
        "id": "gtxDXtlvVO2N",
        "outputId": "2272ec21-02f6-42e7-f399-25787df82be1"
      },
      "execution_count": 6,
      "outputs": [
        {
          "output_type": "stream",
          "name": "stdout",
          "text": [
            "Enter the first number: 8\n",
            "Enter an operator: -\n",
            "Enter the second number: 6\n",
            "2.0\n"
          ]
        }
      ]
    },
    {
      "cell_type": "code",
      "source": [
        "number=int(input(\"enter a number: \"))\n",
        "if(number>0):\n",
        "    print(\"The number is positive.\")\n",
        "elif(number<0):\n",
        "    print(\"The number is negative.\")\n",
        "else:\n",
        "    print(\"The number is zero.\")"
      ],
      "metadata": {
        "colab": {
          "base_uri": "https://localhost:8080/"
        },
        "id": "WaXG9afPVTD-",
        "outputId": "d5cf5a84-f0d9-4ab3-8f35-e0f7a4a49b73"
      },
      "execution_count": 7,
      "outputs": [
        {
          "output_type": "stream",
          "name": "stdout",
          "text": [
            "enter a number: 5\n",
            "The number is positive.\n"
          ]
        }
      ]
    },
    {
      "cell_type": "code",
      "source": [
        "username = input(\"write a username: \")\n",
        "password = input(\"enter a password: \")\n",
        "if(username==\"admin\" and password==\"1234\"):\n",
        "  print(\"login successful\")\n",
        "else:\n",
        "  print(\"login failed\")"
      ],
      "metadata": {
        "colab": {
          "base_uri": "https://localhost:8080/"
        },
        "id": "s-ARZoR8VWop",
        "outputId": "a5a13568-9efb-46a8-fa5d-5f6194b07e02"
      },
      "execution_count": 8,
      "outputs": [
        {
          "output_type": "stream",
          "name": "stdout",
          "text": [
            "write a username: admin\n",
            "enter a password: 234\n",
            "login failed\n"
          ]
        }
      ]
    },
    {
      "cell_type": "code",
      "source": [
        "side1 = int(input(\"side 1 of triangle\"))\n",
        "side2 = int(input(\"side 2 of triangle\"))\n",
        "side3 = int(input(\"side 3 of triangle\"))\n",
        "if(side1+side2>side3 and side2+side3>side1 and side1+side3>side2):\n",
        "  print(\"triangle is valid\")\n",
        "else:\n",
        "  print(\"triangle is invalid\")"
      ],
      "metadata": {
        "colab": {
          "base_uri": "https://localhost:8080/"
        },
        "id": "IkVo1v7LVdrK",
        "outputId": "aed4bb29-3229-47fd-903d-592881628bcf"
      },
      "execution_count": 9,
      "outputs": [
        {
          "output_type": "stream",
          "name": "stdout",
          "text": [
            "side 1 of triangle4\n",
            "side 2 of triangle5\n",
            "side 3 of triangle6\n",
            "triangle is valid\n"
          ]
        }
      ]
    },
    {
      "cell_type": "code",
      "source": [
        "weight = int(input(\"enter a weight\"))\n",
        "Height = int(input(\"enter a height\"))\n",
        "BMI = weight / (Height ** 2)\n",
        "print(BMI)\n",
        "if(BMI < 18.5):\n",
        "  print(\"Underweight\")\n",
        "elif(18.5 <= BMI < 24.9):\n",
        "  print(\"Normal weight\")\n",
        "elif(25 <= BMI < 29.9):\n",
        "  print(\"Overweight\")\n",
        "else:\n",
        "  print(\"obesity\")"
      ],
      "metadata": {
        "colab": {
          "base_uri": "https://localhost:8080/"
        },
        "id": "rRzeOrZBVuPr",
        "outputId": "7d41a070-9dc0-437d-97d1-1e402ed36656"
      },
      "execution_count": 11,
      "outputs": [
        {
          "output_type": "stream",
          "name": "stdout",
          "text": [
            "enter a weight60\n",
            "enter a height8\n",
            "0.9375\n",
            "Underweight\n"
          ]
        }
      ]
    },
    {
      "cell_type": "code",
      "source": [
        "price = float(input(\"Enter the price of the product: \"))\n",
        "if price > 1000:\n",
        "    discount = 10/100 * price\n",
        "elif 500 <= price <= 1000:\n",
        "    discount = 5/100 * price\n",
        "else:\n",
        "    discount = 0\n",
        "\n",
        "finalprice = price - discount\n",
        "\n",
        "print(f\"Discount applied: ₹{discount:.2f}\")\n",
        "print(f\"Final price after discount: ₹{finalprice:.2f}\")"
      ],
      "metadata": {
        "colab": {
          "base_uri": "https://localhost:8080/"
        },
        "id": "aTvNTjB4Wc__",
        "outputId": "a68697de-fa67-44e5-b14d-5ec49c008eb8"
      },
      "execution_count": 13,
      "outputs": [
        {
          "output_type": "stream",
          "name": "stdout",
          "text": [
            "Enter the price of the product: 500\n",
            "Discount applied: ₹25.00\n",
            "Final price after discount: ₹475.00\n"
          ]
        }
      ]
    },
    {
      "cell_type": "code",
      "source": [
        "month=input(\"name of the month: \")\n",
        "if(month==\"January\" or month==1):\n",
        "  print(\"30\")\n",
        "elif(month==\"February\" or month==2):\n",
        "  print(\"28\")\n",
        "elif(month==\"March\" or month==3):\n",
        "  print(\"31\")\n",
        "elif(month==\"April\" or month==4):\n",
        "  print(\"30\")\n",
        "elif(month==\"May\" or month==5):\n",
        "  print(\"31\")\n",
        "elif(month==\"June\" or month==6):\n",
        "  print(\"30\")\n",
        "elif(month==\"July\" or month==7):\n",
        "  print(\"31\")\n",
        "elif(month==\"August\" or month==8):\n",
        "  print(\"31\")\n",
        "elif(month==\"September\" or month==9):\n",
        "  print(\"30\")\n",
        "elif(month==\"October\" or month==10):\n",
        "  print(\"31\")\n",
        "elif(month==\"November\" or month==11):\n",
        "  print(\"30\")\n",
        "elif(month==\"December\" or month==12):\n",
        "  print(\"31\")\n",
        "else:\n",
        "  print(\"print correct month\")\n"
      ],
      "metadata": {
        "colab": {
          "base_uri": "https://localhost:8080/"
        },
        "id": "bq1jYZNMYczn",
        "outputId": "2017e6e1-7d49-4d0b-8332-64668473cf9d"
      },
      "execution_count": 14,
      "outputs": [
        {
          "output_type": "stream",
          "name": "stdout",
          "text": [
            "name of the month: March\n",
            "31\n"
          ]
        }
      ]
    },
    {
      "cell_type": "code",
      "source": [
        "age=int(input(\"enter an age: \"))\n",
        "if(0 <age < 1):\n",
        "  print('infant')\n",
        "elif(2<age<4):\n",
        "  print('Toddler')\n",
        "elif(5<age<12):\n",
        "  print('Child')\n",
        "elif(13<age<19):\n",
        "  print('Teenager')\n",
        "elif(20<age<59):\n",
        "  print('Adult')\n",
        "elif(age>60):\n",
        "  print('senior citizen')\n",
        "else:\n",
        "  print('child')"
      ],
      "metadata": {
        "colab": {
          "base_uri": "https://localhost:8080/"
        },
        "id": "l60mXOv9aDbF",
        "outputId": "5bc6f2c2-2fa3-4858-97c9-4578d071728f"
      },
      "execution_count": 15,
      "outputs": [
        {
          "output_type": "stream",
          "name": "stdout",
          "text": [
            "enter an age: 16\n",
            "Teenager\n"
          ]
        }
      ]
    },
    {
      "cell_type": "code",
      "source": [
        "Day=input(\"name of the day: \")\n",
        "if(Day==\"1\"):\n",
        "  print(\"Monday\")\n",
        "elif(Day==\"2\"):\n",
        "  print(\"Tuesday\")\n",
        "elif(Day==\"3\"):\n",
        "  print(\"Wednesday\")\n",
        "elif(Day==\"4\"):\n",
        "  print(\"Thursday\")\n",
        "elif(Day==\"5\"):\n",
        "  print(\"Friday\")\n",
        "elif(Day==\"6\"):\n",
        "  print(\"Saturday\")\n",
        "elif(Day==\"7\"):\n",
        "  print(\"Sunday\")\n",
        "else:\n",
        "  print(\"print correct Day\")"
      ],
      "metadata": {
        "colab": {
          "base_uri": "https://localhost:8080/"
        },
        "id": "U0PpcmpvbF9y",
        "outputId": "e90b970b-842c-48a1-e702-b8c1711b06a0"
      },
      "execution_count": 17,
      "outputs": [
        {
          "output_type": "stream",
          "name": "stdout",
          "text": [
            "name of the day: 7\n",
            "Sunday\n"
          ]
        }
      ]
    },
    {
      "cell_type": "code",
      "source": [],
      "metadata": {
        "id": "Ih-V_Z_PcPPl"
      },
      "execution_count": null,
      "outputs": []
    }
  ]
}